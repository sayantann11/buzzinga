{
 "cells": [
  {
   "cell_type": "markdown",
   "id": "71c7dddc",
   "metadata": {},
   "source": [
    "# Weighted Average Basic Recommendations"
   ]
  },
  {
   "cell_type": "code",
   "execution_count": 1,
   "id": "ecb2c9bd",
   "metadata": {},
   "outputs": [],
   "source": [
    "import numpy as np\n",
    "import pandas as pd"
   ]
  },
  {
   "cell_type": "code",
   "execution_count": 38,
   "id": "7e58ec79",
   "metadata": {},
   "outputs": [],
   "source": [
    "def change_name(x):\n",
    "    y = x.split(\", The\")\n",
    "    if(len(y)==1):\n",
    "        return x\n",
    "    else:\n",
    "        y = \"\".join([word for word in y])\n",
    "        y = \"The \" + y\n",
    "        return y"
   ]
  },
  {
   "cell_type": "code",
   "execution_count": 82,
   "id": "de0392df",
   "metadata": {},
   "outputs": [],
   "source": [
    "ratings = pd.read_csv(\"../../Datasets/ratings.csv\")\n",
    "movies = pd.read_csv(\"../../Datasets/movies.csv\")\n",
    "movies['title'] = movies['title'].apply(lambda x: change_name(x))"
   ]
  },
  {
   "cell_type": "code",
   "execution_count": 11,
   "id": "8778531a",
   "metadata": {},
   "outputs": [],
   "source": [
    "ratings = ratings.merge(movies)\n",
    "ratings.dropna(thresh=10, inplace=True, axis=1)\n",
    "ratings.fillna(0,axis=1)\n",
    "\n",
    "grouped_ratings = ratings.groupby(by='movieId')['rating'].agg(['mean','count']).rename(columns={'mean':'average_rating','count':'vote_count'})\n",
    "grouped_ratings = grouped_ratings[grouped_ratings['vote_count']>100]\n",
    "grouped_ratings['standardized_vote_count'] = (5/grouped_ratings['vote_count'].max())*grouped_ratings['vote_count']\n",
    "grouped_ratings[['average_rating','standardized_vote_count']].merge(movies,on='movieId').to_csv(\"../Datasets/average_ratings.csv\")"
   ]
  },
  {
   "cell_type": "code",
   "execution_count": 184,
   "id": "88f561c7",
   "metadata": {},
   "outputs": [
    {
     "data": {
      "text/html": [
       "<div>\n",
       "<style scoped>\n",
       "    .dataframe tbody tr th:only-of-type {\n",
       "        vertical-align: middle;\n",
       "    }\n",
       "\n",
       "    .dataframe tbody tr th {\n",
       "        vertical-align: top;\n",
       "    }\n",
       "\n",
       "    .dataframe thead th {\n",
       "        text-align: right;\n",
       "    }\n",
       "</style>\n",
       "<table border=\"1\" class=\"dataframe\">\n",
       "  <thead>\n",
       "    <tr style=\"text-align: right;\">\n",
       "      <th></th>\n",
       "      <th>title</th>\n",
       "      <th>genres</th>\n",
       "      <th>weighted average</th>\n",
       "    </tr>\n",
       "    <tr>\n",
       "      <th>movieId</th>\n",
       "      <th></th>\n",
       "      <th></th>\n",
       "      <th></th>\n",
       "    </tr>\n",
       "  </thead>\n",
       "  <tbody>\n",
       "    <tr>\n",
       "      <th>318</th>\n",
       "      <td>Shawshank Redemption, The (1994)</td>\n",
       "      <td>Crime Drama</td>\n",
       "      <td>4.623326</td>\n",
       "    </tr>\n",
       "    <tr>\n",
       "      <th>356</th>\n",
       "      <td>Forrest Gump (1994)</td>\n",
       "      <td>Comedy Drama Romance War</td>\n",
       "      <td>4.582067</td>\n",
       "    </tr>\n",
       "    <tr>\n",
       "      <th>296</th>\n",
       "      <td>Pulp Fiction (1994)</td>\n",
       "      <td>Comedy Crime Drama Thriller</td>\n",
       "      <td>4.431361</td>\n",
       "    </tr>\n",
       "    <tr>\n",
       "      <th>2571</th>\n",
       "      <td>Matrix, The (1999)</td>\n",
       "      <td>Action Sci-Fi Thriller</td>\n",
       "      <td>4.208685</td>\n",
       "    </tr>\n",
       "    <tr>\n",
       "      <th>593</th>\n",
       "      <td>Silence of the Lambs, The (1991)</td>\n",
       "      <td>Crime Horror Thriller</td>\n",
       "      <td>4.200706</td>\n",
       "    </tr>\n",
       "    <tr>\n",
       "      <th>...</th>\n",
       "      <td>...</td>\n",
       "      <td>...</td>\n",
       "      <td>...</td>\n",
       "    </tr>\n",
       "    <tr>\n",
       "      <th>39</th>\n",
       "      <td>Clueless (1995)</td>\n",
       "      <td>Comedy Romance</td>\n",
       "      <td>2.436908</td>\n",
       "    </tr>\n",
       "    <tr>\n",
       "      <th>586</th>\n",
       "      <td>Home Alone (1990)</td>\n",
       "      <td>Children Comedy</td>\n",
       "      <td>2.379304</td>\n",
       "    </tr>\n",
       "    <tr>\n",
       "      <th>185</th>\n",
       "      <td>Net, The (1995)</td>\n",
       "      <td>Action Crime Thriller</td>\n",
       "      <td>2.371153</td>\n",
       "    </tr>\n",
       "    <tr>\n",
       "      <th>208</th>\n",
       "      <td>Waterworld (1995)</td>\n",
       "      <td>Action Adventure Sci-Fi</td>\n",
       "      <td>2.330382</td>\n",
       "    </tr>\n",
       "    <tr>\n",
       "      <th>434</th>\n",
       "      <td>Cliffhanger (1993)</td>\n",
       "      <td>Action Adventure Thriller</td>\n",
       "      <td>2.284804</td>\n",
       "    </tr>\n",
       "  </tbody>\n",
       "</table>\n",
       "<p>134 rows × 3 columns</p>\n",
       "</div>"
      ],
      "text/plain": [
       "                                    title                       genres  \\\n",
       "movieId                                                                  \n",
       "318      Shawshank Redemption, The (1994)                  Crime Drama   \n",
       "356                   Forrest Gump (1994)     Comedy Drama Romance War   \n",
       "296                   Pulp Fiction (1994)  Comedy Crime Drama Thriller   \n",
       "2571                   Matrix, The (1999)       Action Sci-Fi Thriller   \n",
       "593      Silence of the Lambs, The (1991)        Crime Horror Thriller   \n",
       "...                                   ...                          ...   \n",
       "39                        Clueless (1995)               Comedy Romance   \n",
       "586                     Home Alone (1990)              Children Comedy   \n",
       "185                       Net, The (1995)        Action Crime Thriller   \n",
       "208                     Waterworld (1995)      Action Adventure Sci-Fi   \n",
       "434                    Cliffhanger (1993)    Action Adventure Thriller   \n",
       "\n",
       "         weighted average  \n",
       "movieId                    \n",
       "318              4.623326  \n",
       "356              4.582067  \n",
       "296              4.431361  \n",
       "2571             4.208685  \n",
       "593              4.200706  \n",
       "...                   ...  \n",
       "39               2.436908  \n",
       "586              2.379304  \n",
       "185              2.371153  \n",
       "208              2.330382  \n",
       "434              2.284804  \n",
       "\n",
       "[134 rows x 3 columns]"
      ]
     },
     "execution_count": 184,
     "metadata": {},
     "output_type": "execute_result"
    }
   ],
   "source": [
    "grouped_ratings['weighted average'] = 0.5*grouped_ratings['average rating'] + 0.5*grouped_ratings['standardized vote count']\n",
    "grouped_ratings = grouped_ratings['weighted average'].sort_values(ascending=False)\n",
    "# final_movies = movies.set_index('movieId').loc[grouped_ratings['weighted average'].sort_values(ascending=False).index.values,:].merge(grouped_ratings['weighted average'], on='movieId')\n",
    "# final_movies.head(20)\n",
    "movies.set_index('movieId').loc[grouped_ratings.index.values,:].merge(grouped_ratings, on='movieId')"
   ]
  },
  {
   "cell_type": "markdown",
   "id": "2b651f74",
   "metadata": {},
   "source": [
    " "
   ]
  },
  {
   "cell_type": "code",
   "execution_count": 163,
   "id": "2120630d",
   "metadata": {},
   "outputs": [
    {
     "data": {
      "text/plain": [
       "['Fantasy',\n",
       " 'War',\n",
       " 'Drama',\n",
       " 'Western',\n",
       " 'Crime',\n",
       " 'Horror',\n",
       " 'Action',\n",
       " 'Sci-Fi',\n",
       " 'Mystery',\n",
       " 'Animation',\n",
       " 'Children',\n",
       " 'Adventure',\n",
       " 'IMAX',\n",
       " 'Musical',\n",
       " 'Romance',\n",
       " 'Comedy',\n",
       " 'Thriller']"
      ]
     },
     "execution_count": 163,
     "metadata": {},
     "output_type": "execute_result"
    }
   ],
   "source": [
    "final_movies.head()\n",
    "final_movies['genres list'] = final_movies['genres'].str.split(' ')\n",
    "final_movies.head()\n",
    "final_movies['genre count'] = final_movies.apply(lambda x: len(set(x['genres list']).intersection(fav_genres)), axis=1)\n",
    "recommendations = final_movies[final_movies['genre count']>0]\n",
    "\n",
    "ratings['genre list'] = ratings['genres'].str.split(' ')\n",
    "all_genres_list = []\n",
    "\n",
    "for i in range(len(movies)):\n",
    "    all_genres_list.extend(final_movies.iloc[i]['genres list'])\n",
    "\n",
    "list(set(all_genres_list))"
   ]
  },
  {
   "cell_type": "code",
   "execution_count": null,
   "id": "fcb82b7f",
   "metadata": {},
   "outputs": [],
   "source": [
    "\n"
   ]
  }
 ],
 "metadata": {
  "kernelspec": {
   "display_name": "Python 3",
   "language": "python",
   "name": "python3"
  },
  "language_info": {
   "codemirror_mode": {
    "name": "ipython",
    "version": 3
   },
   "file_extension": ".py",
   "mimetype": "text/x-python",
   "name": "python",
   "nbconvert_exporter": "python",
   "pygments_lexer": "ipython3",
   "version": "3.8.8"
  }
 },
 "nbformat": 4,
 "nbformat_minor": 5
}
