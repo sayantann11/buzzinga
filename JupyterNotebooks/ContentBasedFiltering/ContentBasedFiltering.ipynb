{
 "cells": [
  {
   "cell_type": "markdown",
   "id": "971df002",
   "metadata": {},
   "source": [
    "## TF-IDF Based Content Filtering\n",
    "To filter out similar movies from a given title"
   ]
  },
  {
   "cell_type": "code",
   "execution_count": 172,
   "id": "b5336f04",
   "metadata": {},
   "outputs": [],
   "source": [
    "import numpy as np\n",
    "import pandas as pd\n",
    "import json\n",
    "from sklearn.feature_extraction.text import TfidfVectorizer\n",
    "from sklearn.metrics.pairwise import sigmoid_kernel"
   ]
  },
  {
   "cell_type": "code",
   "execution_count": 194,
   "id": "b120258f",
   "metadata": {},
   "outputs": [],
   "source": [
    "credits = pd.read_csv(\"../Datasets/tmdb_5000_credits.csv\")\n",
    "movies = pd.read_csv(\"../Datasets/tmdb_5000_movies.csv\")"
   ]
  },
  {
   "cell_type": "code",
   "execution_count": 206,
   "id": "8736b7d2",
   "metadata": {},
   "outputs": [],
   "source": [
    "credits.rename(columns={'movie_id':'id'}, inplace=True)\n",
    "movies_merged_df = movies.merge(credits,on='id')\n",
    "movies_features = movies_merged_df[['id','original_title','overview','genres','cast']]\n",
    "\n",
    "movies_features.loc[:,'genres'] = pd.Series([[j['name'] for j in json.loads(movies_features['genres'][i])] for i in range(len(movies))])\n",
    "movies_features.loc[:,'genres_string'] = pd.Series([\" \".join([elem for elem in movies_features['genres'][i]]) for i in range(len(movies))])\n",
    "\n",
    "movies_features.loc[:,'characters'] = [[i['character'] for i in json.loads(movies_features['cast'][j])[:5]] for j in range(len(movies_features))]\n",
    "\n",
    "movies_features.loc[:,'characters_string'] = [\", \".join([character for character in movies_features['characters'][j]]) for j in range(len(movies_features))]\n",
    "movies_features.loc[:,'overview'] = movies_features['overview'].fillna(\"\")\n",
    "movies_features.loc[:,'genres_string'] = movies_features['genres_string'].fillna(\"\")\n",
    "movies_features.loc[:,'characters_string'] = movies_features['characters_string'].fillna(\"\")\n",
    "movies_features.loc[:,'genres_overview_characters'] = movies_features['genres_string'] + 3*movies_features['overview'] + 5*movies_features['characters_string']\n",
    "# movies_features[movies_features['genres_overview_characters'].isna()]"
   ]
  },
  {
   "cell_type": "code",
   "execution_count": 196,
   "id": "83fb76d7",
   "metadata": {},
   "outputs": [
    {
     "name": "stderr",
     "output_type": "stream",
     "text": [
      "C:\\ProgramData\\Anaconda3\\lib\\site-packages\\pandas\\core\\series.py:4463: SettingWithCopyWarning: \n",
      "A value is trying to be set on a copy of a slice from a DataFrame\n",
      "\n",
      "See the caveats in the documentation: https://pandas.pydata.org/pandas-docs/stable/user_guide/indexing.html#returning-a-view-versus-a-copy\n",
      "  return super().fillna(\n"
     ]
    }
   ],
   "source": [
    "tfv = TfidfVectorizer(min_df=1,  max_features=None, \n",
    "            strip_accents='unicode', analyzer='word',token_pattern=r'\\w{1,}',\n",
    "            ngram_range=(1, 3),\n",
    "            stop_words = 'english')\n",
    "movies_features['genres_overview_characters'].fillna(\" \",inplace=True)\n",
    "movies_features = movies_features.append({\"original_title\":\"New Movie\", \"genres_overview_characters\": \"Jake Sully Batman\"}, ignore_index=True)"
   ]
  },
  {
   "cell_type": "code",
   "execution_count": 197,
   "id": "d5fd4a76",
   "metadata": {},
   "outputs": [],
   "source": [
    "tfv_matrix = tfv.fit_transform(movies_features['genres_overview_characters'])"
   ]
  },
  {
   "cell_type": "code",
   "execution_count": 198,
   "id": "d462fb77",
   "metadata": {},
   "outputs": [],
   "source": [
    "sig = sigmoid_kernel(tfv_matrix, tfv_matrix)\n",
    "indices = pd.Series(movies_features.index, index=movies_features['original_title']).drop_duplicates()"
   ]
  },
  {
   "cell_type": "code",
   "execution_count": 199,
   "id": "7ba24cdc",
   "metadata": {},
   "outputs": [],
   "source": [
    "def give_rec(title, sig=sig):\n",
    "    # Get the index corresponding to original_title\n",
    "    idx = indices[title]\n",
    "\n",
    "    # Get the pairwsie similarity scores \n",
    "    sig_scores = list(enumerate(sig[idx]))\n",
    "\n",
    "    # Sort the movies \n",
    "    sig_scores = sorted(sig_scores, key=lambda x: x[1], reverse=True)\n",
    "    \n",
    "    # Scores of the 10 most similar movies\n",
    "    sig_scores = sig_scores[1:11]\n",
    "    print(sig_scores)\n",
    "    \n",
    "    # Movie indices\n",
    "    movie_indices = [i[0] for i in sig_scores]\n",
    "\n",
    "    # Top 10 most similar movies\n",
    "    return movies_summaries['original_title'].iloc[movie_indices]"
   ]
  },
  {
   "cell_type": "code",
   "execution_count": 200,
   "id": "274ca434",
   "metadata": {},
   "outputs": [
    {
     "name": "stdout",
     "output_type": "stream",
     "text": [
      "[(428, 0.7615942635661447), (0, 0.7615942356982714), (4519, 0.7615942339088927), (4139, 0.7615942332579542), (3153, 0.761594233200953), (3, 0.7615942323334496), (119, 0.7615942233896763), (299, 0.7615942217487373), (1753, 0.7615942157977913), (397, 0.7615942141069796)]\n"
     ]
    },
    {
     "data": {
      "text/plain": [
       "428            Batman Returns\n",
       "0                      Avatar\n",
       "4519           To Save A Life\n",
       "4139                Nine Dead\n",
       "3153    Into the Grizzly Maze\n",
       "3       The Dark Knight Rises\n",
       "119             Batman Begins\n",
       "299            Batman Forever\n",
       "1753       The Blues Brothers\n",
       "397          It's Complicated\n",
       "Name: original_title, dtype: object"
      ]
     },
     "execution_count": 200,
     "metadata": {},
     "output_type": "execute_result"
    }
   ],
   "source": [
    "give_rec('New Movie')"
   ]
  },
  {
   "cell_type": "code",
   "execution_count": null,
   "id": "e328d30c",
   "metadata": {},
   "outputs": [],
   "source": []
  },
  {
   "cell_type": "code",
   "execution_count": null,
   "id": "ab72add9",
   "metadata": {},
   "outputs": [],
   "source": []
  }
 ],
 "metadata": {
  "kernelspec": {
   "display_name": "Python 3",
   "language": "python",
   "name": "python3"
  },
  "language_info": {
   "codemirror_mode": {
    "name": "ipython",
    "version": 3
   },
   "file_extension": ".py",
   "mimetype": "text/x-python",
   "name": "python",
   "nbconvert_exporter": "python",
   "pygments_lexer": "ipython3",
   "version": "3.8.8"
  }
 },
 "nbformat": 4,
 "nbformat_minor": 5
}
